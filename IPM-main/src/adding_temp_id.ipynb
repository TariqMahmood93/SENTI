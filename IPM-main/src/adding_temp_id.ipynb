{
 "cells": [
  {
   "cell_type": "code",
   "execution_count": 2,
   "metadata": {},
   "outputs": [
    {
     "name": "stdout",
     "output_type": "stream",
     "text": [
      "True\n"
     ]
    }
   ],
   "source": [
    "import os\n",
    "import torch\n",
    "os.environ[\"CUDA_VISIBLE_DEVICES\"]=\"0\"\n",
    "print(torch.cuda.is_available())\n",
    "import os\n",
    "import pandas as pd"
   ]
  },
  {
   "cell_type": "code",
   "execution_count": 4,
   "metadata": {},
   "outputs": [
    {
     "name": "stdout",
     "output_type": "stream",
     "text": [
      "Added 'id' column to tictactoe_40_7_nonimputed.csv at the start\n",
      "Added 'id' column to adultsample_5_7_nonimputed.csv at the start\n",
      "Added 'id' column to adultsample_10_7_nonimputed.csv at the start\n",
      "Added 'id' column to imdb_20_7_nonimputed.csv at the start\n",
      "Added 'id' column to tax_20_7_nonimputed.csv at the start\n",
      "Added 'id' column to fodorszagats_40_7_nonimputed.csv at the start\n",
      "Added 'id' column to thoracic_40_7_nonimputed.csv at the start\n",
      "Added 'id' column to tax_10_7_nonimputed.csv at the start\n",
      "Added 'id' column to flare_40_7_nonimputed.csv at the start\n",
      "Added 'id' column to tictactoe_5_7_nonimputed.csv at the start\n",
      "Added 'id' column to flare_5_7_nonimputed.csv at the start\n",
      "Added 'id' column to thoracic_20_7_nonimputed.csv at the start\n",
      "Added 'id' column to mammogram_40_7_nonimputed.csv at the start\n",
      "Added 'id' column to adultsample_20_7_nonimputed.csv at the start\n",
      "Added 'id' column to contraceptive_20_7_nonimputed.csv at the start\n",
      "Added 'id' column to australian_20_7_nonimputed.csv at the start\n",
      "Added 'id' column to contraceptive_10_7_nonimputed.csv at the start\n",
      "Added 'id' column to adultsample_40_7_nonimputed.csv at the start\n",
      "Added 'id' column to fodorszagats_10_7_nonimputed.csv at the start\n",
      "Added 'id' column to fodorszagats_20_7_nonimputed.csv at the start\n",
      "Added 'id' column to mammogram_5_7_nonimputed.csv at the start\n",
      "Added 'id' column to imdb_40_7_nonimputed.csv at the start\n",
      "Added 'id' column to fodorszagats_5_7_nonimputed.csv at the start\n",
      "Added 'id' column to thoracic_10_7_nonimputed.csv at the start\n",
      "Added 'id' column to credit_10_7_nonimputed.csv at the start\n",
      "Added 'id' column to australian_10_7_nonimputed.csv at the start\n",
      "Added 'id' column to imdb_5_7_nonimputed.csv at the start\n",
      "Added 'id' column to imdb_10_7_nonimputed.csv at the start\n",
      "Added 'id' column to australian_40_7_nonimputed.csv at the start\n",
      "Added 'id' column to credit_5_7_nonimputed.csv at the start\n",
      "Added 'id' column to flare_20_7_nonimputed.csv at the start\n",
      "Added 'id' column to thoracic_5_7_nonimputed.csv at the start\n",
      "Added 'id' column to mammogram_10_7_nonimputed.csv at the start\n",
      "Added 'id' column to australian_5_7_nonimputed.csv at the start\n",
      "Added 'id' column to tictactoe_10_7_nonimputed.csv at the start\n",
      "Added 'id' column to credit_20_7_nonimputed.csv at the start\n",
      "Added 'id' column to contraceptive_40_7_nonimputed.csv at the start\n",
      "Added 'id' column to mammogram_20_7_nonimputed.csv at the start\n",
      "Added 'id' column to credit_40_7_nonimputed.csv at the start\n",
      "Added 'id' column to flare_10_7_nonimputed.csv at the start\n",
      "Added 'id' column to tax_40_7_nonimputed.csv at the start\n",
      "Added 'id' column to tax_5_7_nonimputed.csv at the start\n",
      "Added 'id' column to contraceptive_5_7_nonimputed.csv at the start\n",
      "Added 'id' column to tictactoe_20_7_nonimputed.csv at the start\n"
     ]
    }
   ],
   "source": [
    "import os\n",
    "import pandas as pd\n",
    "\n",
    "def add_id_column_to_csv_files(directory):\n",
    "    # Get all .csv files in the directory\n",
    "    csv_files = [f for f in os.listdir(directory) if f.endswith('.csv')]\n",
    "    \n",
    "    for csv_file in csv_files:\n",
    "        file_path = os.path.join(directory, csv_file)\n",
    "        \n",
    "        # Read the CSV file into a DataFrame\n",
    "        df = pd.read_csv(file_path)\n",
    "        \n",
    "        # Add the 'id' column with values from 1 to the length of the dataset\n",
    "        df.insert(0, 'id', range(1, len(df) + 1))\n",
    "        \n",
    "        # Save the updated DataFrame back to the CSV file\n",
    "        df.to_csv(file_path, index=False)\n",
    "        print(f\"Added 'id' column to {csv_file} at the start\")\n",
    "\n",
    "# Example usage:\n",
    "directory = '/root/workspace/Data-Imputation/IPM-main/data'  # Replace with the path to your directory\n",
    "add_id_column_to_csv_files(directory)\n"
   ]
  }
 ],
 "metadata": {
  "kernelspec": {
   "display_name": "tariq",
   "language": "python",
   "name": "python3"
  },
  "language_info": {
   "codemirror_mode": {
    "name": "ipython",
    "version": 3
   },
   "file_extension": ".py",
   "mimetype": "text/x-python",
   "name": "python",
   "nbconvert_exporter": "python",
   "pygments_lexer": "ipython3",
   "version": "3.10.11"
  }
 },
 "nbformat": 4,
 "nbformat_minor": 2
}
